{
 "cells": [
  {
   "cell_type": "markdown",
   "metadata": {},
   "source": [
    "# Monte Carlo Simulation is FUN!\n",
    "\n",
    "## A friendly introduction without boring maths\n",
    "\n",
    "The motivation behind this series of iPython notebooks is simple:\n",
    "\n",
    "Statistics are generally taught (very) badly, especially the *really* important concepts.\n",
    "\n",
    "I witnessed countless brilliant brains put to sleep in the typical Statistics training. (Mind you, these people are highly skilled engineers with brains that designed the most high end products in an insanely competitive market)\n",
    "\n",
    "Words like 'Monte Carlo Simulations' became insanely sexy and hyped up. Actually they are real simple concepts.\n",
    "\n",
    "My job here is to make Monte Carlo simulations unsexy and uncool. It should just become one of the tools in scientists and engineers arsenal.\n",
    "\n",
    "by Ooi CY"
   ]
  },
  {
   "cell_type": "code",
   "execution_count": 1,
   "metadata": {},
   "outputs": [],
   "source": [
    "import numpy as np               # import the necessary libraries\n",
    "import matplotlib.pyplot as plt\n",
    "%matplotlib inline"
   ]
  },
  {
   "cell_type": "markdown",
   "metadata": {},
   "source": [
    "## 1) Estimate the area of a circle by...... throwing darts?!\n",
    "\n",
    "### 1.0) Introduction\n",
    "\n",
    "![Mr. Monte Carlo gonna throw darts](1.0-unknown-circle-area.PNG)\n",
    "\n",
    "\n",
    "1. Our friend, Mr. Monte Carlo has a **rectangle with a known area**, say, 100mm x 100mm = 10000mm-sq.\n",
    "\n",
    "2. In the rectangle, there is a **circle with an unknown radius**, and Mr. Monte Carlo needs to estimate the circle's area.\n",
    "\n",
    "3. We give Mr. Monte Carlo a box of million darts, so he can shoot darts at the rectangle randomly.\n",
    "\n",
    "4. Some of the darts will land inside the circle. Some of the darts will land outside of the circle.\n",
    "\n",
    "5. After throwing a large number of darts, say, **10,000 darts**. You counted **500 of those darts landed INSIDE the circle.**\n",
    "\n",
    "6. You estimate that the circle area is ```500 / 10000 * 10000mm-sq = 500mm-sq```\n",
    "\n",
    "This is a completely DIFFERENT approach towards \"normal\" math, isn't it?\n",
    "\n",
    "### 1.1) \"...But this approach is so stupid! And Mr. Monte Carlo will be SOOOO tired!\"\n",
    "\n",
    "![](1.0-tired-mr-monte-carlo.PNG)\n",
    "\n",
    "I tend to agree. But it doesn't sound *THAT* silly anymore if:\n",
    "\n",
    "1. Instead of a circle, what if the shape inside the box is a polygon with 35 edges?\n",
    "\n",
    "2. Instead of an imaginary rectangle with an imaginary shape inside, what if this is a real world image processing problem, where you need to estimate the rate of deforestation from satellite images?\n",
    "\n",
    "### 1.2) Let's go ahead and have fun with the code!\n",
    "\n",
    "I coded some simple RectangleShape() and CircleShape() classes. Study the code below to see how the Monte Carlo circle area calculation works."
   ]
  },
  {
   "cell_type": "code",
   "execution_count": 2,
   "metadata": {},
   "outputs": [],
   "source": [
    "class RectangleShape():\n",
    "    def __init__(self, x, y, width, height):\n",
    "        self.x = x\n",
    "        self.y = y\n",
    "        self.width = width\n",
    "        self.height = height\n",
    "        self.area = self.calc_area()\n",
    "        \n",
    "    def calc_area(self):\n",
    "        return self.width * self.height"
   ]
  },
  {
   "cell_type": "code",
   "execution_count": 3,
   "metadata": {},
   "outputs": [
    {
     "data": {
      "text/plain": [
       "10000"
      ]
     },
     "execution_count": 3,
     "metadata": {},
     "output_type": "execute_result"
    }
   ],
   "source": [
    "big_rect = RectangleShape(0,0,100,100) # create a bigger rectangle at (0,0), width and height are both 100.\n",
    "big_rect.area   # display the area value, it should be 100x100 = 10000"
   ]
  },
  {
   "cell_type": "code",
   "execution_count": 4,
   "metadata": {},
   "outputs": [],
   "source": [
    "class CircleShape():\n",
    "    def __init__(self, x, y, radius):\n",
    "        self.x = x\n",
    "        self.y = y\n",
    "        self.radius = radius\n",
    "        self.area = self.calc_area()\n",
    "        \n",
    "    def calc_area(self):\n",
    "        return np.pi * self.radius ** 2\n",
    "    \n",
    "    def is_in_circle(self, x, y):\n",
    "        dist = np.sqrt((self.x - x)**2 + (self.y - y)**2)\n",
    "        return dist <= self.radius"
   ]
  },
  {
   "cell_type": "code",
   "execution_count": 5,
   "metadata": {},
   "outputs": [
    {
     "data": {
      "text/plain": [
       "True"
      ]
     },
     "execution_count": 5,
     "metadata": {},
     "output_type": "execute_result"
    }
   ],
   "source": [
    "CircleShape(30,30,5).is_in_circle(32,32)    # to test whether the is_in_circle() function works: expected result: True"
   ]
  },
  {
   "cell_type": "code",
   "execution_count": 6,
   "metadata": {},
   "outputs": [],
   "source": [
    "small_circle = CircleShape(x=30, y=30, radius=20)    # create a smaller circle at (30,30), with a radius of 20.\n",
    "                                                     # So this circle sits INSIDE the bigger rectangle"
   ]
  },
  {
   "cell_type": "markdown",
   "metadata": {},
   "source": [
    "What we are doing above is essentially this:\n",
    "\n",
    "![](./1.0-unknown-circle-area-2.PNG)"
   ]
  },
  {
   "cell_type": "code",
   "execution_count": 7,
   "metadata": {},
   "outputs": [
    {
     "name": "stdout",
     "output_type": "stream",
     "text": [
      "True circle area: 1256.64\n"
     ]
    }
   ],
   "source": [
    "print('True circle area: {:.2f}'.format(small_circle.area))"
   ]
  },
  {
   "cell_type": "code",
   "execution_count": 8,
   "metadata": {},
   "outputs": [],
   "source": [
    "N = 100000                          # how many darts should we throw?\n",
    "in_circle_counter = 0               # how many random darts have landed inside the circle?\n",
    "estimated_area_values = []          # we record the estimated area values here\n",
    "\n",
    "for i in range(N):\n",
    "    rand_x = np.random.uniform(big_rect.x, big_rect.x + big_rect.width)   # throw 1 random dart at (rand_x, rand_y)\n",
    "    rand_y = np.random.uniform(big_rect.y, big_rect.y + big_rect.height)\n",
    "    \n",
    "    if small_circle.is_in_circle(rand_x, rand_y):     # if the random dart landed inside the circle,\n",
    "        in_circle_counter += 1                        # increment counter          \n",
    "    \n",
    "    estimated_area_values.append(in_circle_counter / (i+1) * big_rect.area)  # record the estimated area value  "
   ]
  },
  {
   "cell_type": "code",
   "execution_count": 9,
   "metadata": {},
   "outputs": [
    {
     "data": {
      "image/png": "[encoded data removed]",
      "text/plain": [
       "<Figure size 432x288 with 1 Axes>"
      ]
     },
     "metadata": {
      "needs_background": "light"
     },
     "output_type": "display_data"
    }
   ],
   "source": [
    "plt.plot(estimated_area_values)\n",
    "plt.xlabel('Number of Random Darts Thrown')\n",
    "plt.ylabel('Estimated Circle Area')\n",
    "plt.title('Estimated Circle Area over {} Monte Carlo Simulations'.format(N));"
   ]
  },
  {
   "cell_type": "code",
   "execution_count": 10,
   "metadata": {},
   "outputs": [
    {
     "data": {
      "text/plain": [
       "1263.5"
      ]
     },
     "execution_count": 10,
     "metadata": {},
     "output_type": "execute_result"
    }
   ],
   "source": [
    "estimated_area_values[-1]    # display the last estimated circle area value"
   ]
  },
  {
   "cell_type": "code",
   "execution_count": 11,
   "metadata": {},
   "outputs": [
    {
     "name": "stdout",
     "output_type": "stream",
     "text": [
      "Real area: 1256.64, Estimated area: 1263.50, Error: 0.55%\n"
     ]
    }
   ],
   "source": [
    "estimation_error = (estimated_area_values[-1] - small_circle.area) / small_circle.area\n",
    "\n",
    "print('Real area: {:.2f}, Estimated area: {:.2f}, Error: {:.2%}'.format(small_circle.area,\n",
    "                                                                       estimated_area_values[-1],\n",
    "                                                                       estimation_error))"
   ]
  },
  {
   "cell_type": "markdown",
   "metadata": {},
   "source": [
    "### 1.3) We got a really good estimate!\n",
    "\n",
    "The estimated area from the Monte Carlo method was *very, very* near to the true circle area value (the error is less than 1%)\n",
    "\n",
    "Not bad at all for a dude spending 20 minutes playing with code! (*Patting my own back*)\n",
    "\n",
    "### 1.4) Your turn\n",
    "\n",
    "**Mr. Monte Carlo challenges you to:**\n",
    "\n",
    "1. Play with the code above - what if the radius is 5, instead of 20? Is 100,000 random darts enough? Why?\n",
    "2. What if your rectangle is much bigger, e.g. 1,000 x 1,000. Is 100,000 random darts enough? Why?\n",
    "3. In the example above, I arbitarily decided the estimate is good enough based on the error of <1%. But if you do not know the TRUE area value, how would you decide that the Monte Carlo dart throwing process has already give you a good estimate?\n",
    "4. Most importantly, have fun!"
   ]
  }
 ],
 "metadata": {
  "kernelspec": {
   "display_name": "Python 3",
   "language": "python",
   "name": "python3"
  },
  "language_info": {
   "codemirror_mode": {
    "name": "ipython",
    "version": 3
   },
   "file_extension": ".py",
   "mimetype": "text/x-python",
   "name": "python",
   "nbconvert_exporter": "python",
   "pygments_lexer": "ipython3",
   "version": "3.7.0"
  }
 },
 "nbformat": 4,
 "nbformat_minor": 2
}
