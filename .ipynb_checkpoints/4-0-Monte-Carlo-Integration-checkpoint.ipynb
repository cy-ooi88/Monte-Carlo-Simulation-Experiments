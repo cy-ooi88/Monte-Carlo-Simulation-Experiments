{
 "cells": [
  {
   "cell_type": "markdown",
   "metadata": {},
   "source": [
    "# Monte Carlo Simulation is FUN!\n",
    "\n",
    "## A friendly introduction without boring maths\n",
    "\n",
    "The motivation behind this series of iPython notebooks is simple:\n",
    "\n",
    "Statistics are generally taught (very) badly, especially the *really* important concepts.\n",
    "\n",
    "I witnessed countless brilliant brains put to sleep in the typical Statistics training. (Mind you, these people are highly skilled engineers with brains that designed the most high end products in an insanely competitive market)\n",
    "\n",
    "Words like 'Monte Carlo Simulations' became insanely sexy and hyped up. Actually they are real simple concepts.\n",
    "\n",
    "My job here is to make Monte Carlo simulations unsexy and uncool. It should just become one of the tools in scientists and engineers arsenal.\n",
    "\n",
    "by Ooi CY"
   ]
  },
  {
   "cell_type": "code",
   "execution_count": 1,
   "metadata": {},
   "outputs": [],
   "source": [
    "import numpy as np\n",
    "import matplotlib.pyplot as plt\n",
    "%matplotlib inline"
   ]
  },
  {
   "cell_type": "markdown",
   "metadata": {},
   "source": [
    "## 4) I LOVE Calculus but hate to remember all the funny integral rules\n",
    "\n",
    "I am going to be real honest. I love the beauty of calculus. \n",
    "\n",
    "But trying to remember the integral rules feels like Thor swinging his hammer against my head. *Ouch*\n",
    "\n",
    "### 4.1) Who says you need calculus to do integrations?\n",
    "\n",
    "Turns out that if you know how to calculate the area of a trapezium, you know how to do Monte Carlo Integration.\n",
    "\n",
    "So this is the Trapezium Rule:\n",
    "\n",
    "\\begin{equation*}\n",
    "\\int_a^b f(x) dx \\approx \\frac{b-a}{n} \\sum f(x)\n",
    "\\end{equation*}\n",
    "\n",
    "Isn't that so much more simpler than calculus?\n",
    "\n",
    "(If you need a refresher for the Trapezium Rule for estimating integrals, [this is a good one](https://www.youtube.com/watch?v=YwrO4kvp5XI).)\n",
    "\n",
    "In a nut shell, let's say we have a function, f(x), and we need to estimate the integral value from limits a to b.\n",
    "\n",
    "We can estimate the integrals by:\n",
    "\n",
    "1. Select a large number of random numbers between limits a and b. Let's call these array of numbers: x\n",
    "2. Calculate the y-values of these numbers using the function f(x)\n",
    "3. Estimate the integrals using the Trapezium Rule\n",
    "4. Sip coffee. Keep calm and code.\n",
    "\n",
    "### 4.2) So... Let's do it!"
   ]
  },
  {
   "cell_type": "code",
   "execution_count": 2,
   "metadata": {},
   "outputs": [],
   "source": [
    "# here we define the values of a and b\n",
    "a = 0.0\n",
    "b = np.pi\n",
    "N = 100       # number of data points\n",
    "\n",
    "x = np.random.uniform(a, b, N)    # create random numbers between a and b"
   ]
  },
  {
   "cell_type": "code",
   "execution_count": 3,
   "metadata": {},
   "outputs": [],
   "source": [
    "# f(x) is the function that we one to integrate\n",
    "def f(x):\n",
    "    return np.sin(x)"
   ]
  },
  {
   "cell_type": "code",
   "execution_count": 4,
   "metadata": {},
   "outputs": [
    {
     "data": {
      "image/png": "[encoded data removed]",
      "text/plain": [
       "<Figure size 432x288 with 1 Axes>"
      ]
     },
     "metadata": {
      "needs_background": "light"
     },
     "output_type": "display_data"
    }
   ],
   "source": [
    "plt.scatter(x, f(x));"
   ]
  },
  {
   "cell_type": "code",
   "execution_count": 5,
   "metadata": {},
   "outputs": [],
   "source": [
    "def monte_carlo_integration(x, f):\n",
    "    ''' because I am lazy, I wrote a function to perform the Monte Carlo Integration,\n",
    "     so I can re-use the code again and again.\n",
    "     Inputs:\n",
    "         x: <array-like> An numpy array / list of random numbers between a and b\n",
    "         f: <function> The function to pass values of x into\n",
    "     Returns:\n",
    "         Monte Carlo Integration estmate of the integral value (Trapezium Rule)\n",
    "    '''\n",
    "    a, b = np.min(x), np.max(x)\n",
    "    \n",
    "    return (b - a) * np.mean(f(x))   # Trapezium rule"
   ]
  },
  {
   "cell_type": "code",
   "execution_count": 6,
   "metadata": {},
   "outputs": [
    {
     "name": "stdout",
     "output_type": "stream",
     "text": [
      "The Monte Carlo Integration result is: 1.946, error is: -0.054\n"
     ]
    }
   ],
   "source": [
    "integral_value = monte_carlo_integration(x, f)   # perform Monte Carlo Integration\n",
    "true_value = 2.0                                 # the \"calculus\" answer is 2\n",
    "integral_error = integral_value - true_value     # calculate the error\n",
    "\n",
    "print('The Monte Carlo Integration result is: {:.3f}, error is: {:.3f}'.format(integral_value,\n",
    "                                                                               integral_error))"
   ]
  },
  {
   "cell_type": "markdown",
   "metadata": {},
   "source": [
    "### 4.3) The estimation is not bad at all!\n",
    "\n",
    "In this example above, the function of : \n",
    "\n",
    "\\begin{equation*}f(x) = sin(x)\\end{equation*}\n",
    "\n",
    "...is quite simple.\n",
    "\n",
    "What if the function is something way more complicated? Something like this:\n",
    "\n",
    "\\begin{equation*}g(x) = cos(3x)sin(5x)\\end{equation*}\n",
    "\n",
    "No worries, we just need to define the function g(x), and pass it to our ```monte_carlo_integration()``` function:"
   ]
  },
  {
   "cell_type": "code",
   "execution_count": 7,
   "metadata": {},
   "outputs": [],
   "source": [
    "def g(x):    # a more complicated function\n",
    "    return np.cos(3.0*x) * np.sin(5.0*x) + 2.3"
   ]
  },
  {
   "cell_type": "code",
   "execution_count": 8,
   "metadata": {},
   "outputs": [
    {
     "data": {
      "image/png": "[encoded data removed]",
      "text/plain": [
       "<Figure size 432x288 with 1 Axes>"
      ]
     },
     "metadata": {
      "needs_background": "light"
     },
     "output_type": "display_data"
    }
   ],
   "source": [
    "plt.scatter(x, g(x));"
   ]
  },
  {
   "cell_type": "code",
   "execution_count": 9,
   "metadata": {},
   "outputs": [
    {
     "data": {
      "text/plain": [
       "6.948083874575627"
      ]
     },
     "execution_count": 9,
     "metadata": {},
     "output_type": "execute_result"
    }
   ],
   "source": [
    "monte_carlo_integration(x, g)   # we can still perform the integration!"
   ]
  },
  {
   "cell_type": "code",
   "execution_count": 10,
   "metadata": {},
   "outputs": [
    {
     "name": "stdout",
     "output_type": "stream",
     "text": [
      "Integral value for h(x) is: 10.827\n"
     ]
    },
    {
     "data": {
      "image/png": "[encoded data removed]",
      "text/plain": [
       "<Figure size 432x288 with 1 Axes>"
      ]
     },
     "metadata": {
      "needs_background": "light"
     },
     "output_type": "display_data"
    }
   ],
   "source": [
    "# FUN math with more complicated functions. This time a mountain shaped curve\n",
    "def h(x):\n",
    "    return 10 * np.sin(x) * np.abs(np.cos(2*x))\n",
    "\n",
    "integral_val = monte_carlo_integration(x, h)\n",
    "print('Integral value for h(x) is: {:.3f}'.format(integral_val))\n",
    "\n",
    "plt.scatter(x, h(x));"
   ]
  },
  {
   "cell_type": "code",
   "execution_count": 11,
   "metadata": {},
   "outputs": [
    {
     "data": {
      "text/plain": [
       "12.18950348253415"
      ]
     },
     "execution_count": 11,
     "metadata": {},
     "output_type": "execute_result"
    }
   ],
   "source": [
    "# BONUS: another way to estimate integrals is to use numpy's \n",
    "# built-in trapz() (Trapezium) function\n",
    "\n",
    "x_lin = np.linspace(a, b, 1000)\n",
    "h_lin = h(x_lin)\n",
    "\n",
    "np.trapz(h_lin, x_lin)"
   ]
  }
 ],
 "metadata": {
  "kernelspec": {
   "display_name": "Python 3",
   "language": "python",
   "name": "python3"
  },
  "language_info": {
   "codemirror_mode": {
    "name": "ipython",
    "version": 3
   },
   "file_extension": ".py",
   "mimetype": "text/x-python",
   "name": "python",
   "nbconvert_exporter": "python",
   "pygments_lexer": "ipython3",
   "version": "3.7.0"
  }
 },
 "nbformat": 4,
 "nbformat_minor": 2
}
